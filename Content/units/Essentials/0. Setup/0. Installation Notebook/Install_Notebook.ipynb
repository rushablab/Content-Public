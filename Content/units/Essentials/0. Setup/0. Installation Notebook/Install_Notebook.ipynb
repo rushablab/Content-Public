{
  "cells": [
    {
      "cell_type": "markdown",
      "metadata": {
        "id": "view-in-github",
        "colab_type": "text"
      },
      "source": [
        "<a href=\"https://colab.research.google.com/github/rushablab/Content-Public/blob/main/Content/units/Essentials/0.%20Setup/0.%20Installation%20Notebook/Install_Notebook.ipynb\" target=\"_parent\"><img src=\"https://colab.research.google.com/assets/colab-badge.svg\" alt=\"Open In Colab\"/></a>"
      ]
    },
    {
      "cell_type": "markdown",
      "metadata": {
        "id": "8UqFeJ56jzzu"
      },
      "source": [
        "## Setting up (Linux)\n",
        "You will set up everything you need to get started on your local Linux machine. To execute the commands below you will need to open the Linux command line."
      ]
    },
    {
      "cell_type": "markdown",
      "metadata": {
        "id": "CLLSRdLtjzzw"
      },
      "source": [
        "### 1. Updating Linux\n",
        "First thing let's make sure our operating system is up to date."
      ]
    },
    {
      "cell_type": "code",
      "execution_count": null,
      "metadata": {
        "vscode": {
          "languageId": "shellscript"
        },
        "id": "xya5miFMjzzw"
      },
      "outputs": [],
      "source": [
        "sudo apt-get update \n",
        "sudo apt-get upgrade -y"
      ]
    },
    {
      "cell_type": "markdown",
      "metadata": {
        "id": "I0wXB_dpjzzx"
      },
      "source": [
        "### 2. Installing miniconda\n",
        "Miniconda is mininimal installer for conda (an open source environment and package manager). It includes conda, Python, the packages they depend on and a small number of other useful packages."
      ]
    },
    {
      "cell_type": "code",
      "execution_count": null,
      "metadata": {
        "vscode": {
          "languageId": "shellscript"
        },
        "id": "W0v65hY5jzzx"
      },
      "outputs": [],
      "source": [
        "\n",
        "wget -q https://repo.anaconda.com/miniconda/Miniconda3-latest-Linux-x86_64.sh -O /tmp/miniconda.sh \n",
        "sudo bash /tmp/miniconda.sh -b -p $HOME/miniconda \n",
        "sudo ~/miniconda/bin/conda init"
      ]
    },
    {
      "cell_type": "markdown",
      "metadata": {
        "id": "-LdZg0Wljzzx"
      },
      "source": [
        "After running the last command, you should see a similar message in your terminal. Now is time to close the current terminal and open a new one, in order for the changes to take place. "
      ]
    },
    {
      "cell_type": "markdown",
      "metadata": {
        "id": "J46S0zYDjzzx"
      },
      "source": [
        "![alt text](images/Linux1.png \"Terminal output\")"
      ]
    },
    {
      "cell_type": "markdown",
      "metadata": {
        "id": "R9oNVG34jzzy"
      },
      "source": [
        "### 3. Installing Python"
      ]
    },
    {
      "cell_type": "code",
      "execution_count": null,
      "metadata": {
        "vscode": {
          "languageId": "shellscript"
        },
        "id": "kufDrdGXjzzy"
      },
      "outputs": [],
      "source": [
        "sudo apt install python3-pip"
      ]
    },
    {
      "cell_type": "markdown",
      "metadata": {
        "id": "IIziWKBujzzy"
      },
      "source": [
        "A message similar to the one before will pop up during Python installation. Make sure to press 'Y' when the 'Do you want to continue?' question comes up."
      ]
    },
    {
      "cell_type": "markdown",
      "metadata": {
        "id": "UJUXdEcNjzzy"
      },
      "source": [
        "![alt text](images/Linux2.png \"Terminal Python output\")"
      ]
    },
    {
      "cell_type": "markdown",
      "metadata": {
        "id": "uJCIjpdrjzzy"
      },
      "source": [
        "### 4. Installing VS Code\n",
        "Visual Studio Code is a free source code editor that fully supports Python and has useful features such as support for debugging, syntax highlighthing, etc."
      ]
    },
    {
      "cell_type": "code",
      "execution_count": null,
      "metadata": {
        "vscode": {
          "languageId": "shellscript"
        },
        "id": "JnFJLTwdjzzy"
      },
      "outputs": [],
      "source": [
        "sudo snap refresh \n",
        "sudo snap remove code \n",
        "sudo snap install code --classic "
      ]
    },
    {
      "cell_type": "markdown",
      "metadata": {
        "id": "UfzwcPuSjzzz"
      },
      "source": [
        "Now we should have successfully installed Visual Studio Code on your local machine. Let's open it up, just as show in the picture below"
      ]
    },
    {
      "cell_type": "markdown",
      "metadata": {
        "id": "l9PCcWE3jzzz"
      },
      "source": [
        "![alt text](images/Linux3.png \"Open VSCode\")"
      ]
    },
    {
      "cell_type": "markdown",
      "metadata": {
        "id": "9p6E83y9jzzz"
      },
      "source": [
        "### 4. Installing VS Code extensions"
      ]
    },
    {
      "cell_type": "markdown",
      "metadata": {
        "id": "abCjKapdjzzz"
      },
      "source": [
        "Finally, we are going to install some important VS Code extensions such as Python and Jupyter Notebook, an extension that provides an interactive way of running Python code. To install any extension we need to click on 'Extensions' as shown below"
      ]
    },
    {
      "cell_type": "markdown",
      "metadata": {
        "id": "H4xXPk7Tjzzz"
      },
      "source": [
        "![alt text](images/Linux4.png \"Terminal Python output\")"
      ]
    },
    {
      "cell_type": "markdown",
      "metadata": {
        "id": "p8d-ZcS-jzzz"
      },
      "source": [
        "And from the menu, we will install Python and Jupyter."
      ]
    },
    {
      "cell_type": "markdown",
      "metadata": {
        "id": "2rljRwRFjzzz"
      },
      "source": [
        "![alt text](images/Linux5.png \"Terminal Python output\")"
      ]
    },
    {
      "cell_type": "markdown",
      "metadata": {
        "id": "vvTgSzG3jzzz"
      },
      "source": [
        "## Setting up (MacOS)\n",
        "You will set up everything you need to get started on your local MacOS machine. To execute the commands below you will need to open a terminal. On Mac, you can find this by simply typing terminal in your Spotlight Search."
      ]
    },
    {
      "cell_type": "markdown",
      "metadata": {
        "id": "Z9osFBcWjzzz"
      },
      "source": [
        "### 1. Installing Homebrew\n",
        "Homebrew is a free and open-source software package management system that simplifies the installation of software on Apple's operating system, macOS."
      ]
    },
    {
      "cell_type": "code",
      "execution_count": null,
      "metadata": {
        "vscode": {
          "languageId": "shellscript"
        },
        "id": "Roj7zZbNjzzz"
      },
      "outputs": [],
      "source": [
        "sudo /bin/bash -c \"$(curl -fsSL https://raw.githubusercontent.com/Homebrew/install/HEAD/install.sh)\""
      ]
    },
    {
      "cell_type": "markdown",
      "metadata": {
        "id": "22q4SRWIjzzz"
      },
      "source": [
        "When you are installing Homebrew, you will get the following message in your terminal:"
      ]
    },
    {
      "cell_type": "markdown",
      "metadata": {
        "id": "YjAoG3Zxjzzz"
      },
      "source": [
        "![alt text](images/Mac1.png \"Terminal Python output\")"
      ]
    },
    {
      "cell_type": "markdown",
      "metadata": {
        "id": "vmgP5d6tjzzz"
      },
      "source": [
        "Make sure to press ENTER to continue the installation."
      ]
    },
    {
      "cell_type": "markdown",
      "metadata": {
        "id": "O6KLR9vEjzz0"
      },
      "source": [
        "### 2. Installing miniconda\n",
        "Miniconda is mininimal installer for conda (an open source environment and package manager). It includes conda, Python, the packages they depend on and a small number of other useful packages."
      ]
    },
    {
      "cell_type": "code",
      "execution_count": null,
      "metadata": {
        "vscode": {
          "languageId": "shellscript"
        },
        "id": "gHoQx-yjjzz0"
      },
      "outputs": [],
      "source": [
        "\n",
        "curl -o /tmp/miniconda.sh https://repo.anaconda.com/miniconda/Miniconda3-latest-MacOSX-x86_64.sh \n",
        "sudo bash /tmp/miniconda.sh -b -p $HOME/miniconda \n",
        "sudo ~/miniconda/bin/conda init zsh"
      ]
    },
    {
      "cell_type": "markdown",
      "metadata": {
        "id": "peCkUggljzz0"
      },
      "source": [
        "Once installation is finished, you should see a message similar to the one below. Now is the time to close your terminal and open a new one, in order for the changes to take place."
      ]
    },
    {
      "cell_type": "markdown",
      "metadata": {
        "id": "0M0C14HMjzz0"
      },
      "source": [
        "![alt text](images/Mac2.png \"Terminal Python output\")"
      ]
    },
    {
      "cell_type": "markdown",
      "metadata": {
        "id": "QABZ56t5jzz0"
      },
      "source": [
        "### 3. Installing Python\n",
        "Python is a high-level general-purpose programming language and is going to be language of choice for the programme."
      ]
    },
    {
      "cell_type": "code",
      "execution_count": null,
      "metadata": {
        "vscode": {
          "languageId": "shellscript"
        },
        "id": "gyorZCzWjzz0"
      },
      "outputs": [],
      "source": [
        "brew install python"
      ]
    },
    {
      "cell_type": "markdown",
      "metadata": {
        "id": "CCJuJYuGjzz0"
      },
      "source": [
        "### 4. Installing VS Code\n",
        "Visual Studio Code is a free source code editor that fully supports Python and has useful features such as support for debugging, syntax highlighthing, etc."
      ]
    },
    {
      "cell_type": "code",
      "execution_count": null,
      "metadata": {
        "vscode": {
          "languageId": "shellscript"
        },
        "id": "IiqIHS4Hjzz0"
      },
      "outputs": [],
      "source": [
        "brew install --cask visual-studio-code"
      ]
    },
    {
      "cell_type": "markdown",
      "metadata": {
        "id": "N-YSe14qjzz0"
      },
      "source": [
        "Once the installation is done, you should be able to find your VS Code in your Spotlight Search."
      ]
    },
    {
      "cell_type": "markdown",
      "metadata": {
        "id": "7SvDMheujzz0"
      },
      "source": [
        "![alt text](images/Mac3.png \"Terminal Python output\")"
      ]
    },
    {
      "cell_type": "markdown",
      "metadata": {
        "id": "9brw7YKHjzz0"
      },
      "source": [
        "### 5. Installing VS Code extensions"
      ]
    },
    {
      "cell_type": "markdown",
      "metadata": {
        "id": "cDdzDPWKjzz0"
      },
      "source": [
        "Please follow the same instructions from step 4 Linux installation."
      ]
    },
    {
      "cell_type": "markdown",
      "metadata": {
        "id": "Gr3SbrDBjzz0"
      },
      "source": [
        "## Setting up (Windows)\n",
        "You will set up everything you need to get started on your local Windows machine. "
      ]
    },
    {
      "cell_type": "markdown",
      "metadata": {
        "id": "_65hPbLsjzz0"
      },
      "source": [
        "### 1. Preparing to install your environment\n",
        "To execute the commands below you will need to open the PowerShell. Before running the commands below, you will need to run \"Set-ExecutionPolicy unrestricted -Scope LocalMachine\" in powershell with adminsitrator privileges. You should see the following output in your PowerShell:"
      ]
    },
    {
      "cell_type": "markdown",
      "metadata": {
        "id": "Xo1on2Imjzz0"
      },
      "source": [
        "![alt text](images/WIndows1.png \"Terminal Python output\")"
      ]
    },
    {
      "cell_type": "markdown",
      "metadata": {
        "id": "IfADWIjPjzz0"
      },
      "source": [
        "Make sure to type in 'y' and press Enter to continue, and then run the two following lines:"
      ]
    },
    {
      "cell_type": "code",
      "execution_count": null,
      "metadata": {
        "vscode": {
          "languageId": "shellscript"
        },
        "id": "PxUrGzMTjzz0"
      },
      "outputs": [],
      "source": [
        "$UserProfile = $env:USERPROFILE\n",
        "New-Item -ErrorAction Ignore -ItemType Directory -Path C:\\temp "
      ]
    },
    {
      "cell_type": "markdown",
      "metadata": {
        "id": "uhTMnR81jzz0"
      },
      "source": [
        "### 2. Downloading & installing Git Bash\n",
        "Git Bash is an application that provides Git command line experience for Microsoft Windows environments."
      ]
    },
    {
      "cell_type": "code",
      "execution_count": null,
      "metadata": {
        "vscode": {
          "languageId": "shellscript"
        },
        "id": "LcnS5tPhjzz1"
      },
      "outputs": [],
      "source": [
        "Invoke-RestMethod -Uri \"https://github.com/git-for-windows/git/releases/download/v2.37.0.windows.1/Git-2.37.0-64-bit.exe\" -OutFile \"C:\\temp\\Git-2.37.0-64-bit.exe\" \n",
        "Start-Process -FilePath C:\\temp\\Git-2.37.0-64-bit.exe -Wait -ArgumentList \"/NORESTART /VERYSILENT\" "
      ]
    },
    {
      "cell_type": "markdown",
      "metadata": {
        "id": "-rJSkcWrjzz1"
      },
      "source": [
        "### 3. Downloading and installing miniconda3\n",
        "Miniconda is mininimal installer for conda (an open source environment and package manager). It includes conda, Python, the packages they depend on and a small number of other useful packages."
      ]
    },
    {
      "cell_type": "code",
      "execution_count": null,
      "metadata": {
        "vscode": {
          "languageId": "shellscript"
        },
        "id": "Cpa8Ilpmjzz1"
      },
      "outputs": [],
      "source": [
        "Invoke-RestMethod -Uri \"https://repo.anaconda.com/miniconda/Miniconda3-latest-Windows-x86_64.exe\" -OutFile  \"C:\\temp\\Miniconda3-latest-Windows-x86_64.exe\"\n",
        "Remove-Item -Recurse -ErrorAction Ignore \"$UserProfile\\Miniconda3\"\n",
        "Start-Process -FilePath C:\\temp\\Miniconda3-latest-Windows-x86_64.exe `\n",
        "-Wait -ArgumentList @(\"/S\", \"/InstallationType=AllUsers\", \"/RegisterPython=1\", \"/AddToPath=1\", \"/D=$UserProfile\\Miniconda3\")"
      ]
    },
    {
      "cell_type": "markdown",
      "metadata": {
        "id": "kmCUskx9jzz1"
      },
      "source": [
        "### 4. Activating miniconda\n",
        "To activate Miniconda run the following commands:"
      ]
    },
    {
      "cell_type": "code",
      "execution_count": null,
      "metadata": {
        "vscode": {
          "languageId": "shellscript"
        },
        "id": "i5lSwQR-jzz1"
      },
      "outputs": [],
      "source": [
        "Start-Process -FilePath $UserProfile\\Miniconda3\\condabin\\activate.bat -Wait \n",
        "Start-Process -FilePath $UserProfile\\Miniconda3\\condabin\\conda.bat -Wait -ArgumentList @(\"init powershell\")\n",
        "Write-Output \". '$UserProfile\\Miniconda3\\etc\\profile.d\\conda.sh'\" | Out-File -Encoding Ascii -FilePath ~/.bashrc "
      ]
    },
    {
      "cell_type": "markdown",
      "metadata": {
        "id": "tigcZv_Ojzz1"
      },
      "source": [
        "You should now see 'base' appearing in your terminal, before you machine name, just as in the picture below:"
      ]
    },
    {
      "cell_type": "markdown",
      "metadata": {
        "id": "sHplI-nVjzz1"
      },
      "source": [
        "![alt text](images/WIndows2.png \"Terminal Python output\")"
      ]
    },
    {
      "cell_type": "markdown",
      "metadata": {
        "id": "Yfob7EMejzz1"
      },
      "source": [
        "Now is the time to close your PoweShell and open a new one, in order for the changes to take place."
      ]
    },
    {
      "cell_type": "markdown",
      "metadata": {
        "id": "zFx-flkljzz1"
      },
      "source": [
        "### 5. Downloading and installing VS Code\n",
        "Visual Studio Code is a free source code editor that fully supports Python and has useful features such as support for debugging, syntax highlighthing, etc."
      ]
    },
    {
      "cell_type": "code",
      "execution_count": null,
      "metadata": {
        "vscode": {
          "languageId": "shellscript"
        },
        "id": "GrOARA0Sjzz1"
      },
      "outputs": [],
      "source": [
        "Invoke-RestMethod -Uri \"https://code.visualstudio.com/sha/download?build=stable&os=win32-x64\" -OutFile \"C:\\temp\\VS_Code.exe\" \n",
        "Start-Process -FilePath C:\\temp\\VS_Code.exe -Wait -ArgumentList \"/NORESTART /VERYSILENT /MERGETASKS=!runcode\" "
      ]
    },
    {
      "cell_type": "markdown",
      "metadata": {
        "id": "Mr3dkOJVjzz1"
      },
      "source": [
        "Once the installation has finished, you should be able to find Visual Studio Code in your applications and open it."
      ]
    },
    {
      "cell_type": "markdown",
      "metadata": {
        "id": "xS5HCeJGjzz1"
      },
      "source": [
        "### 6. Installing VS Code extensions"
      ]
    },
    {
      "cell_type": "markdown",
      "metadata": {
        "id": "TCfR6-nKjzz1"
      },
      "source": [
        "Please follow the same instructions from step 4 Linux installation."
      ]
    }
  ],
  "metadata": {
    "interpreter": {
      "hash": "09d8601da2aa4dd73cc7e9c40ea3f7292d3d22be5aed83dc35ceaff56697c175"
    },
    "kernelspec": {
      "display_name": "Python 3.9.7 ('base')",
      "language": "python",
      "name": "python3"
    },
    "language_info": {
      "name": "python",
      "version": "3.9.7"
    },
    "colab": {
      "provenance": [],
      "include_colab_link": true
    }
  },
  "nbformat": 4,
  "nbformat_minor": 0
}